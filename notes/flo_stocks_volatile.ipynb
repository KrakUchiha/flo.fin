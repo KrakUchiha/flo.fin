{
 "cells": [
  {
   "cell_type": "markdown",
   "id": "fe7d41f8",
   "metadata": {},
   "source": [
    "###  Required Setup\n",
    "    1. create virtual environment in jupyter env\n",
    "    2. install kernel in virtual environment created\n",
    "    3. install required modules/packages\n",
    "\n",
    "### References\n",
    "\n",
    "**MarkUp:**\n",
    "\n",
    "    1. https://www.tutorialspoint.com/jupyter/jupyter_notebook_markdown_cells.htm\n",
    "    \n",
    "    2. https://www.earthdatascience.org/courses/intro-to-earth-data-science/file-formats/use-text-files/format-text-with-markdown-jupyter-notebook/\n",
    "    \n",
    "    3. https://jupyter-notebook.readthedocs.io/en/stable/examples/Notebook/Working%20With%20Markdown%20Cells.html\n",
    " \n",
    " **Setup**\n",
    " \n",
    "    1. https://conda.io/projects/conda/en/latest/user-guide/tasks/manage-environments.html#specifying-a-location-for-an-environment\n",
    "     \n",
    "    2. https://janakiev.com/blog/jupyter-virtual-envs/\n",
    "     \n",
    "    3. https://www.geeksforgeeks.org/using-jupyter-notebook-in-virtual-environment/\n",
    " \n",
    " **GitHub**\n",
    " \n",
    "     1. https://docs.github.com/en/get-started/quickstart/hello-world\n",
    "     \n",
    "     2. https://reproducible-science-curriculum.github.io/sharing-RR-Jupyter/01-sharing-github/\n",
    "     \n",
    "     3. https://www.geeksforgeeks.org/how-to-upload-project-on-github-from-jupyter-notebook/"
   ]
  },
  {
   "cell_type": "markdown",
   "id": "aa2d6697",
   "metadata": {},
   "source": [
    "###  import required python modules"
   ]
  },
  {
   "cell_type": "code",
   "execution_count": 34,
   "id": "5c2eef91",
   "metadata": {},
   "outputs": [],
   "source": [
    "import pandas as pd\n",
    "import numpy as np\n",
    "\n",
    "import xlrd\n",
    "import xlsxwriter\n",
    "\n",
    "import math\n",
    "import time\n",
    "from time import sleep\n",
    "import schedule\n",
    "\n",
    "import seaborn as sns\n",
    "%matplotlib inline\n",
    "import matplotlib.pyplot as plt\n",
    "import matplotlib.dates as mdates\n",
    "\n",
    "import mplfinance as mpf\n",
    "import yfinance as yf\n",
    "from qtrade import Questrade"
   ]
  },
  {
   "cell_type": "markdown",
   "id": "f27b2c8e",
   "metadata": {},
   "source": [
    "###  function for single stock volume frequency tracker indicator(not in use)"
   ]
  },
  {
   "cell_type": "code",
   "execution_count": 35,
   "id": "3dbf9fe6",
   "metadata": {},
   "outputs": [],
   "source": [
    "def onestock():\n",
    "    Ticker = input('Enter ticker for information: ')\n",
    "    data12 = yf.download(Ticker, start=\"2021-09-17\", end=\"2021-11-12\", interval=\"5m\", prepost=True)\n",
    "    Volume1 = data12.Volume\n",
    "    Close = data12.Close\n",
    "\n",
    "    A = Volume1[(Volume1 >= 15000) & (Volume1 < 50000)]\n",
    "    B = Volume1[(Volume1 >= 80000) & (Volume1 < 300000)]\n",
    "    C = Volume1[(Volume1 >= 1000000)]\n",
    "    D = Volume1[(Volume1 >= 5000000)]\n",
    "\n",
    "    fifteenfifty = A.count()\n",
    "    eightythreehund = B.count()\n",
    "    onemill = C.count()\n",
    "    fivemill = D.count()\n",
    "\n",
    "    print_data_demacator = '*****************************************************************'\n",
    "\n",
    "    # print(\">>>>>>>>>>>>>>>>>>>>>>>>>>>>>>REPORT SUMMARY>>>>>>>>>>>>>>>>>>>>>>>>>>\")\n",
    "\n",
    "    # print('>>>>>>>>>>>>>>>>>>>>>>>>>>>>>|15k-50k --A|>>>>>>>>>>>>>>>>>>>>>>>>>>>>')\n",
    "    # print('I.',fifteenfifty)\n",
    "    # print('>>>>>>>>>>>>>>>>>>>>>>>>>>>>>|80k-300k--B|>>>>>>>>>>>>>>>>>>>>>>>>>>>>')\n",
    "    # print('II.',eightythreehund)\n",
    "    # print('>>>>>>>>>>>>>>>>>>>>>>>>>>>>>|1Million--C|>>>>>>>>>>>>>>>>>>>>>>>>>>>>')\n",
    "    # print('>>>>>>>>>>>>>>>>>>>>>>>>>>>>>|5Million--D|>>>>>>>>>>>>>>>>>>>>>>>>>>>>')\n",
    "    # print('IV.',fivemill)\n",
    "    # print('>>>>>>>>>>>>>>>>>>>>>>>>>>>>>| ALL DONE  |>>>>>>>>>>>>>>>>>>>>>>>>>>>>')\n",
    "\n",
    "    with pd.ExcelWriter('C:/Users/dows/Desktop/criteria1.xlsx') as writer:\n",
    "        fifteenfifty.to_excel(writer, sheet_name='15k', index=True)\n",
    "        eightythreehund.to_excel(writer, sheet_name='80k', index=True)\n",
    "        onemill.to_excel(writer, sheet_name='1milla', index=True)\n",
    "        fivemill.to_excel(writer, sheet_name='5milla', index=True)\n",
    "        B.to_excel(writer, sheet_name='80to300', index=False)\n",
    "        C.to_excel(writer, sheet_name='1m', index=False)\n",
    "        D.to_excel(writer, sheet_name='5m', index=False)\n",
    "\n",
    "\n",
    "# onestock()"
   ]
  },
  {
   "cell_type": "markdown",
   "id": "48d7dbbd",
   "metadata": {},
   "source": [
    "###   function for average down analysis indicator(not in use)"
   ]
  },
  {
   "cell_type": "code",
   "execution_count": 36,
   "id": "404c1490",
   "metadata": {},
   "outputs": [],
   "source": [
    "def average_down():\n",
    "    print(\"****************************************************************************\")\n",
    "    print(\"*********************AVERAGING DOWN QTY FINDER******************************\")\n",
    "    share_ticker = input(\"Enter Ticker: \")\n",
    "    shares_qty_purchased = int(input(\"Enter Shares quantity bought:\"))\n",
    "    shares_cost = int(input(\"Enter Total Cost bought: \"))\n",
    "    current_shares_price = int(input(\"Current share price:\"))\n",
    "    newshares_to_purchase = int(input(\"Enter Number of share:\"))\n",
    "    newAverage_cost_per_share= ( Shares_Cost+(Current_Shares_price*Newshares_to_purchase ))/( Shares_qty_purchased+Newshares_to_purchase )\n",
    "    print(\"New average cost per shares is\", NewAverage_Cost_per_share)\n",
    "    print(\"****************************************************************************\")\n",
    "# average_down()"
   ]
  },
  {
   "cell_type": "markdown",
   "id": "d8ba505f",
   "metadata": {},
   "source": [
    "###   function for pre-post market trader(not in use)"
   ]
  },
  {
   "cell_type": "markdown",
   "id": "a3390aa2",
   "metadata": {},
   "source": [
    "###    function to get single ticker info from yfinance"
   ]
  },
  {
   "cell_type": "code",
   "execution_count": 37,
   "id": "a94fb54e",
   "metadata": {},
   "outputs": [],
   "source": [
    "def df_single_get(ticker):  # function used to get single dataframe for a single ticker\n",
    "    pd.set_option('display.max_rows', None)\n",
    "    pd.set_option('display.max_columns', None)\n",
    "\n",
    "    # download pre/post regular market hours data\n",
    "    # (optional, default is False) prepost=False\n",
    "    df = yf.download(  # or pdr.get_data_yahoo(...\n",
    "        # tickers list or string as well\n",
    "        ticker,\n",
    "\n",
    "        # use \"period\" instead of start/end\n",
    "        # valid periods: 1d,5d,1mo,3mo,6mo,1y,2y,5y,10y,ytd,max\n",
    "        # (optional, default is '1mo')\n",
    "        period=\"6mo\",\n",
    "        # start=\"2021-03-01\",\n",
    "        # end=\"2021-11-13\",\n",
    "\n",
    "        # fetch data by interval (including intraday if period < 60 days)\n",
    "        # valid intervals: 1m,2m,5m,15m,30m,60m,90m,1h,1d,5d,1wk,1mo,3mo\n",
    "        # (optional, default is '1d')\n",
    "        interval=\"1h\",\n",
    "\n",
    "        # group by ticker (to access via data['SPY'])\n",
    "        # (optional, default is 'column')\n",
    "        # group_by='ticker',\n",
    "\n",
    "        # adjust all OHLC automatically\n",
    "        # (optional, default is False)\n",
    "        # auto_adjust=True,\n",
    "\n",
    "        # download pre/post regular market hours data\n",
    "        # (optional, default is False)\n",
    "        prepost=True,\n",
    "\n",
    "        # use threads for mass downloading? (True/False/Integer)\n",
    "        # (optional, default is True)\n",
    "        threads=True,\n",
    "\n",
    "        # proxy URL scheme use use when downloading?\n",
    "        # (optional, default is None)\n",
    "        # proxy=None\n",
    "    )\n",
    "\n",
    "    df.insert(0, 'Ticker', ticker, True)\n",
    "    return df"
   ]
  },
  {
   "cell_type": "markdown",
   "id": "35fb2687",
   "metadata": {},
   "source": [
    "###   class created to handle multiple outputs in one object"
   ]
  },
  {
   "cell_type": "code",
   "execution_count": 38,
   "id": "1eb6f9d6",
   "metadata": {},
   "outputs": [],
   "source": [
    "# A Python program to return multiple \n",
    "# values from a method using class\n",
    "class GetBollingerData:\n",
    "    def __init__(self, ML, SD, Dframe):\n",
    "        self.ML = ML\n",
    "        self.SD = SD  \n",
    "        self.df = Dframe\n",
    "  \n",
    "# This function returns an object of Test\n",
    "#def fun():\n",
    "#    return GetBollingerData()\n",
    "#      \n",
    "## Driver code to test above method\n",
    "#t = fun() \n",
    "#print(t.str)\n",
    "#print(t.x)"
   ]
  },
  {
   "cell_type": "markdown",
   "id": "7b94e5ba",
   "metadata": {},
   "source": [
    "###   function for adding bollinger bands data"
   ]
  },
  {
   "cell_type": "code",
   "execution_count": 39,
   "id": "ea114330",
   "metadata": {},
   "outputs": [],
   "source": [
    "def df_add_bollinger_data(df):  \n",
    "    # Calculate the 20 moving averages and std of the adjusted closing prices\n",
    "    ML = df['Adj Close'].rolling(window=20).mean()\n",
    "    SD = df['Adj Close'].rolling(window=20).std()\n",
    "    # Range= (df['High']-df['Low'])/df['Low']\n",
    "\n",
    "    UL = [ML + (SD * 2)]\n",
    "    LL = [ML - (SD * 2)]\n",
    "    Buy = (df['Adj Close'] - (df['Adj Close'].rolling(window=20).mean()) - (SD * 2))\n",
    "    Sell = (df['Adj Close'] - (df['Adj Close'].rolling(window=20).mean()) + (SD * 2))\n",
    "    tTrend = df['Adj Close'] > df['Adj Close'].rolling(window=20).mean()\n",
    "\n",
    "    df['Buy'] = pd.Series(Buy)\n",
    "    df['Sell'] = pd.Series(Sell)\n",
    "    df['Market-Trend'] = pd.Series(tTrend)\n",
    "    df['Market-Trend'] = df['Market-Trend'].map({True: \"Bullish\", False:\"Bearish\"})\n",
    "\n",
    "    Long = df.apply(buy_conditions, axis=1)\n",
    "    Short = df.apply(sell_conditions, axis=1)\n",
    "    #mktrend = df.apply(trend_conditions, axis=1)\n",
    "    # Flow=df.apply(trend,axis=0)\n",
    "\n",
    "    if not df.empty:\n",
    "        df.insert(8, 'Long', Long, allow_duplicates=True)\n",
    "        df.insert(9, 'Short', Short, allow_duplicates=True)\n",
    "    \n",
    "    data = GetBollingerData(ML, SD, df)\n",
    "    \n",
    "    return data"
   ]
  },
  {
   "cell_type": "markdown",
   "id": "0d12ae9e",
   "metadata": {},
   "source": [
    "###   functions for checking buy/sell conditions"
   ]
  },
  {
   "cell_type": "code",
   "execution_count": 40,
   "id": "24569579",
   "metadata": {},
   "outputs": [],
   "source": [
    "def buy_conditions(df):\n",
    "    if (df['Buy'] >= 0):\n",
    "        return 'BUY CALL'\n",
    "    else:\n",
    "        return 'BUY PUT'\n",
    "\n",
    "\n",
    "def sell_conditions(df):\n",
    "    if (df['Sell'] <= 0):\n",
    "        return 'BUY PUT'\n",
    "    else:\n",
    "        return 'BUY CALL'"
   ]
  },
  {
   "cell_type": "markdown",
   "id": "b8ae0244",
   "metadata": {},
   "source": [
    "###   function for volatilty"
   ]
  },
  {
   "cell_type": "code",
   "execution_count": 41,
   "id": "14eb1b80",
   "metadata": {},
   "outputs": [],
   "source": [
    "def volatility_conditions(df):    \n",
    "    Alength = 0\n",
    "    effectiveLen = math.ceil((Alength + 1)/2)\n",
    "    df['volatile'] = df['High'] + df['Open'] + df['Low'] + df['Close']\n",
    "    df['volatile'] = np.tan(df['volatile'].astype(float))\n",
    "    return df"
   ]
  },
  {
   "cell_type": "markdown",
   "id": "576e42c9",
   "metadata": {},
   "source": [
    "###   Plot everything using matplotlib and seaborn"
   ]
  },
  {
   "cell_type": "code",
   "execution_count": 42,
   "id": "9594ce5e",
   "metadata": {},
   "outputs": [],
   "source": [
    "def graphplot(ML,df):\n",
    "    #xpoints = np.array([1, 2, 6, 8])\n",
    "    ypoints = df['volatile']\n",
    "\n",
    "    # Plot everything by leveraging the very powerful matplotlib package\n",
    "\n",
    "    fig, (ax1, ax2) = plt.subplots(2, 1, figsize=(16, 15))\n",
    "    ax1.plot(ML.index, ML, label='Closing Price')\n",
    "    ax2.plot(ypoints.index, ypoints, label='Volatility')\n",
    "\n",
    "    my_year_month_fmt = mdates.DateFormatter('%m/%y')\n",
    "    ax1.xaxis.set_major_formatter(my_year_month_fmt)\n",
    "    ax2.xaxis.set_major_formatter(my_year_month_fmt)\n",
    "\n",
    "    ax1.set_xlabel('Date-Time')\n",
    "    ax1.set_ylabel('Adjusted closing price ($)')\n",
    "    ax1.legend()\n",
    "\n",
    "\n",
    "    ax2.set_xlabel('Date-Time')\n",
    "    ax2.set_ylabel('Volatility')\n",
    "    ax2.legend()\n",
    "    plt.show()"
   ]
  },
  {
   "cell_type": "markdown",
   "id": "18828cc1",
   "metadata": {},
   "source": [
    "###   main call for program"
   ]
  },
  {
   "cell_type": "code",
   "execution_count": 43,
   "id": "3bbc9519",
   "metadata": {},
   "outputs": [],
   "source": [
    "def sub_main():\n",
    "    df = df_single_get('iwm')\n",
    "    \n",
    "    bolldata = df_add_bollinger_data(df)\n",
    "    ML = bolldata.ML\n",
    "    SD = bolldata.SD\n",
    "    df = bolldata.df\n",
    "    \n",
    "    df = volatility_conditions(df)\n",
    "    return bolldata  "
   ]
  },
  {
   "cell_type": "code",
   "execution_count": 44,
   "id": "df9b823b",
   "metadata": {},
   "outputs": [],
   "source": [
    "def main_1():\n",
    "    data = sub_main()\n",
    "    df = data.df\n",
    "    print(df.head(10))\n",
    "    return data\n",
    "    "
   ]
  },
  {
   "cell_type": "code",
   "execution_count": 45,
   "id": "8d123e3b",
   "metadata": {},
   "outputs": [],
   "source": [
    "def main_2(data):\n",
    "    ML = data.ML\n",
    "    df = data.df\n",
    "    graphplot(ML,df)"
   ]
  },
  {
   "cell_type": "code",
   "execution_count": 46,
   "id": "d0a9dc9d",
   "metadata": {
    "scrolled": true
   },
   "outputs": [
    {
     "name": "stdout",
     "output_type": "stream",
     "text": [
      "[*********************100%***********************]  1 of 1 completed\n",
      "                          Ticker        Open        High         Low  \\\n",
      "2021-06-04 04:00:00-04:00    iwm  226.550000  226.710000  226.420000   \n",
      "2021-06-04 05:00:00-04:00    iwm  226.320000  226.620000  226.200000   \n",
      "2021-06-04 06:00:00-04:00    iwm  226.490000  226.760000  226.400000   \n",
      "2021-06-04 07:00:00-04:00    iwm  226.210000  226.930000  225.980000   \n",
      "2021-06-04 08:00:00-04:00    iwm  226.740000  227.000000  226.270400   \n",
      "2021-06-04 09:00:00-04:00    iwm  226.880000  227.710000  226.420000   \n",
      "2021-06-04 09:30:00-04:00    iwm  227.539993  228.054993  226.210007   \n",
      "2021-06-04 10:30:00-04:00    iwm  226.809998  227.089996  226.520004   \n",
      "2021-06-04 11:30:00-04:00    iwm  226.979996  227.119995  226.574997   \n",
      "2021-06-04 12:30:00-04:00    iwm  226.934998  227.440002  226.880005   \n",
      "\n",
      "                                Close   Adj Close   Volume  Buy     Long  \\\n",
      "2021-06-04 04:00:00-04:00  226.420000  226.420000        0  NaN  BUY PUT   \n",
      "2021-06-04 05:00:00-04:00  226.530000  226.530000        0  NaN  BUY PUT   \n",
      "2021-06-04 06:00:00-04:00  226.400000  226.400000        0  NaN  BUY PUT   \n",
      "2021-06-04 07:00:00-04:00  226.810000  226.810000        0  NaN  BUY PUT   \n",
      "2021-06-04 08:00:00-04:00  226.860000  226.860000        0  NaN  BUY PUT   \n",
      "2021-06-04 09:00:00-04:00  227.390000  227.390000        0  NaN  BUY PUT   \n",
      "2021-06-04 09:30:00-04:00  226.809998  226.809998  5953876  NaN  BUY PUT   \n",
      "2021-06-04 10:30:00-04:00  226.985001  226.985001  2101173  NaN  BUY PUT   \n",
      "2021-06-04 11:30:00-04:00  226.940002  226.940002  1870933  NaN  BUY PUT   \n",
      "2021-06-04 12:30:00-04:00  227.270004  227.270004  1313634  NaN  BUY PUT   \n",
      "\n",
      "                              Short  Sell Market-Trend  volatile  \n",
      "2021-06-04 04:00:00-04:00  BUY CALL   NaN      Bearish  3.924821  \n",
      "2021-06-04 05:00:00-04:00  BUY CALL   NaN      Bearish  1.237926  \n",
      "2021-06-04 06:00:00-04:00  BUY CALL   NaN      Bearish  3.238686  \n",
      "2021-06-04 07:00:00-04:00  BUY CALL   NaN      Bearish  2.242406  \n",
      "2021-06-04 08:00:00-04:00  BUY CALL   NaN      Bearish -1.742818  \n",
      "2021-06-04 09:00:00-04:00  BUY CALL   NaN      Bearish  0.520259  \n",
      "2021-06-04 09:30:00-04:00  BUY CALL   NaN      Bearish  0.833291  \n",
      "2021-06-04 10:30:00-04:00  BUY CALL   NaN      Bearish -0.566309  \n",
      "2021-06-04 11:30:00-04:00  BUY CALL   NaN      Bearish -0.315138  \n",
      "2021-06-04 12:30:00-04:00  BUY CALL   NaN      Bearish  0.691107  \n"
     ]
    }
   ],
   "source": [
    "if __name__ == \"__main__\":\n",
    "    data = main_1()\n",
    "    \n",
    "    "
   ]
  },
  {
   "cell_type": "code",
   "execution_count": 47,
   "id": "f6acddc2",
   "metadata": {},
   "outputs": [
    {
     "data": {
      "image/png": "[encoded data removed]",
      "text/plain": [
       "<Figure size 1152x1080 with 2 Axes>"
      ]
     },
     "metadata": {
      "needs_background": "light"
     },
     "output_type": "display_data"
    }
   ],
   "source": [
    "if __name__ == \"__main__\":\n",
    "    main_2(data)"
   ]
  },
  {
   "cell_type": "code",
   "execution_count": null,
   "id": "22663905",
   "metadata": {},
   "outputs": [],
   "source": []
  }
 ],
 "metadata": {
  "kernelspec": {
   "display_name": "Python 3 (ipykernel)",
   "language": "python",
   "name": "python3"
  },
  "language_info": {
   "codemirror_mode": {
    "name": "ipython",
    "version": 3
   },
   "file_extension": ".py",
   "mimetype": "text/x-python",
   "name": "python",
   "nbconvert_exporter": "python",
   "pygments_lexer": "ipython3",
   "version": "3.9.7"
  }
 },
 "nbformat": 4,
 "nbformat_minor": 5
}
