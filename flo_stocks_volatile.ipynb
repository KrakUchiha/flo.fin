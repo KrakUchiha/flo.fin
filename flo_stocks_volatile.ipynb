{
 "cells": [
  {
   "cell_type": "markdown",
   "id": "fe7d41f8",
   "metadata": {},
   "source": [
    "###  Required Setup\n",
    "    1. create virtual environment in jupyter env\n",
    "    2. install kernel in virtual environment created\n",
    "    3. install required modules/packages\n",
    "\n",
    "### References\n",
    "\n",
    "**MarkUp:**\n",
    "\n",
    "    1. https://www.tutorialspoint.com/jupyter/jupyter_notebook_markdown_cells.htm\n",
    "    \n",
    "    2. https://www.earthdatascience.org/courses/intro-to-earth-data-science/file-formats/use-text-files/format-text-with-markdown-jupyter-notebook/\n",
    "    \n",
    "    3. https://jupyter-notebook.readthedocs.io/en/stable/examples/Notebook/Working%20With%20Markdown%20Cells.html\n",
    " \n",
    " **Setup**\n",
    " \n",
    "    1. https://conda.io/projects/conda/en/latest/user-guide/tasks/manage-environments.html#specifying-a-location-for-an-environment\n",
    "     \n",
    "    2. https://janakiev.com/blog/jupyter-virtual-envs/\n",
    "     \n",
    "    3. https://www.geeksforgeeks.org/using-jupyter-notebook-in-virtual-environment/\n",
    " \n",
    " **GitHub**\n",
    " \n",
    "     1. https://docs.github.com/en/get-started/quickstart/hello-world\n",
    "     \n",
    "     2. https://reproducible-science-curriculum.github.io/sharing-RR-Jupyter/01-sharing-github/\n",
    "     \n",
    "     3. https://www.geeksforgeeks.org/how-to-upload-project-on-github-from-jupyter-notebook/"
   ]
  },
  {
   "cell_type": "markdown",
   "id": "aa2d6697",
   "metadata": {},
   "source": [
    "###  import required python modules"
   ]
  },
  {
   "cell_type": "code",
   "execution_count": 41,
   "id": "5c2eef91",
   "metadata": {},
   "outputs": [],
   "source": [
    "import yfinance as yf\n",
    "from qtrade import Questrade\n",
    "\n",
    "import pandas as pd\n",
    "import numpy as np\n",
    "\n",
    "import xlrd\n",
    "import xlsxwriter\n",
    "\n",
    "import math\n",
    "import time\n",
    "from time import sleep\n",
    "import schedule\n",
    "\n",
    "import seaborn as sns\n",
    "%matplotlib inline\n",
    "import matplotlib.pyplot as plt\n",
    "import matplotlib.dates as mdates\n",
    "\n",
    "import mplfinance as mpf"
   ]
  },
  {
   "cell_type": "markdown",
   "id": "f27b2c8e",
   "metadata": {},
   "source": [
    "###  function for single stock volume frequency tracker indicator(not in use)"
   ]
  },
  {
   "cell_type": "code",
   "execution_count": 42,
   "id": "3dbf9fe6",
   "metadata": {},
   "outputs": [],
   "source": [
    "def onestock():\n",
    "    Ticker = input('Enter ticker for information: ')\n",
    "    data12 = yf.download(Ticker, start=\"2021-09-17\", end=\"2021-11-12\", interval=\"5m\", prepost=True)\n",
    "    Volume1 = data12.Volume\n",
    "    Close = data12.Close\n",
    "\n",
    "    A = Volume1[(Volume1 >= 15000) & (Volume1 < 50000)]\n",
    "    B = Volume1[(Volume1 >= 80000) & (Volume1 < 300000)]\n",
    "    C = Volume1[(Volume1 >= 1000000)]\n",
    "    D = Volume1[(Volume1 >= 5000000)]\n",
    "\n",
    "    fifteenfifty = A.count()\n",
    "    eightythreehund = B.count()\n",
    "    onemill = C.count()\n",
    "    fivemill = D.count()\n",
    "\n",
    "    print_data_demacator = '*****************************************************************'\n",
    "\n",
    "    # print(\">>>>>>>>>>>>>>>>>>>>>>>>>>>>>>REPORT SUMMARY>>>>>>>>>>>>>>>>>>>>>>>>>>\")\n",
    "\n",
    "    # print('>>>>>>>>>>>>>>>>>>>>>>>>>>>>>|15k-50k --A|>>>>>>>>>>>>>>>>>>>>>>>>>>>>')\n",
    "    # print('I.',fifteenfifty)\n",
    "    # print('>>>>>>>>>>>>>>>>>>>>>>>>>>>>>|80k-300k--B|>>>>>>>>>>>>>>>>>>>>>>>>>>>>')\n",
    "    # print('II.',eightythreehund)\n",
    "    # print('>>>>>>>>>>>>>>>>>>>>>>>>>>>>>|1Million--C|>>>>>>>>>>>>>>>>>>>>>>>>>>>>')\n",
    "    # print('>>>>>>>>>>>>>>>>>>>>>>>>>>>>>|5Million--D|>>>>>>>>>>>>>>>>>>>>>>>>>>>>')\n",
    "    # print('IV.',fivemill)\n",
    "    # print('>>>>>>>>>>>>>>>>>>>>>>>>>>>>>| ALL DONE  |>>>>>>>>>>>>>>>>>>>>>>>>>>>>')\n",
    "\n",
    "    with pd.ExcelWriter('C:/Users/dows/Desktop/criteria1.xlsx') as writer:\n",
    "        fifteenfifty.to_excel(writer, sheet_name='15k', index=True)\n",
    "        eightythreehund.to_excel(writer, sheet_name='80k', index=True)\n",
    "        onemill.to_excel(writer, sheet_name='1milla', index=True)\n",
    "        fivemill.to_excel(writer, sheet_name='5milla', index=True)\n",
    "        B.to_excel(writer, sheet_name='80to300', index=False)\n",
    "        C.to_excel(writer, sheet_name='1m', index=False)\n",
    "        D.to_excel(writer, sheet_name='5m', index=False)\n",
    "\n",
    "\n",
    "# onestock()"
   ]
  },
  {
   "cell_type": "markdown",
   "id": "48d7dbbd",
   "metadata": {},
   "source": [
    "###   function for average down analysis indicator(not in use)"
   ]
  },
  {
   "cell_type": "code",
   "execution_count": 43,
   "id": "404c1490",
   "metadata": {},
   "outputs": [],
   "source": [
    "def average_down():\n",
    "    print(\"****************************************************************************\")\n",
    "    print(\"*********************AVERAGING DOWN QTY FINDER******************************\")\n",
    "    Share_ticker = input(\"Enter Ticker: \")\n",
    "    Shares_qty_purchased = int(input(\"Enter Shares quantity bought:\"))\n",
    "    Shares_Cost = int(input(\"Enter Total Cost bought: \"))\n",
    "    Current_Shares_price =( int(input(\"Current share price:\"))\n",
    "    Newshares_to_purchase =int(input(\"Enter Number of share:\"))\n"
    "    NewAverage_Cost_per_share=( Shares_Cost+Current_Shares_price*Newshares_to_purchase)/(Shares_qty_purchased+Newshares_to_purchase)\n",
    "    print(\"New average cost per shares is\", NewAverage_Cost_per_share)\n",
    "    print(\"****************************************************************************\")\n",
    "# average_down()"
   ]
  },
  {
   "cell_type": "markdown",
   "id": "d8ba505f",
   "metadata": {},
   "source": [
    "###   function for pre-post market trader(not in use)"
   ]
  },
  {
   "cell_type": "markdown",
   "id": "a3390aa2",
   "metadata": {},
   "source": [
    "###    function to get single ticker info from yfinance"
   ]
  },
  {
   "cell_type": "code",
   "execution_count": 44,
   "id": "a94fb54e",
   "metadata": {},
   "outputs": [],
   "source": [
    "def df_single_get(ticker):  # function used to get single dataframe for a single ticker\n",
    "    pd.set_option('display.max_rows', None)\n",
    "    pd.set_option('display.max_columns', None)\n",
    "\n",
    "    # download pre/post regular market hours data\n",
    "    # (optional, default is False) prepost=False\n",
    "    df = yf.download(  # or pdr.get_data_yahoo(...\n",
    "        # tickers list or string as well\n",
    "        ticker,\n",
    "\n",
    "        # use \"period\" instead of start/end\n",
    "        # valid periods: 1d,5d,1mo,3mo,6mo,1y,2y,5y,10y,ytd,max\n",
    "        # (optional, default is '1mo')\n",
    "        period=\"6mo\",\n",
    "        # start=\"2021-03-01\",\n",
    "        # end=\"2021-11-13\",\n",
    "\n",
    "        # fetch data by interval (including intraday if period < 60 days)\n",
    "        # valid intervals: 1m,2m,5m,15m,30m,60m,90m,1h,1d,5d,1wk,1mo,3mo\n",
    "        # (optional, default is '1d')\n",
    "        interval=\"1h\",\n",
    "\n",
    "        # group by ticker (to access via data['SPY'])\n",
    "        # (optional, default is 'column')\n",
    "        # group_by='ticker',\n",
    "\n",
    "        # adjust all OHLC automatically\n",
    "        # (optional, default is False)\n",
    "        # auto_adjust=True,\n",
    "\n",
    "        # download pre/post regular market hours data\n",
    "        # (optional, default is False)\n",
    "        prepost=True,\n",
    "\n",
    "        # use threads for mass downloading? (True/False/Integer)\n",
    "        # (optional, default is True)\n",
    "        threads=True,\n",
    "\n",
    "        # proxy URL scheme use use when downloading?\n",
    "        # (optional, default is None)\n",
    "        # proxy=None\n",
    "    )\n",
    "\n",
    "    df.insert(0, 'Ticker', ticker, True)\n",
    "    return df"
   ]
  },
  {
   "cell_type": "markdown",
   "id": "35fb2687",
   "metadata": {},
   "source": [
    "###   class created to handle multiple outputs in one object"
   ]
  },
  {
   "cell_type": "code",
   "execution_count": 45,
   "id": "1eb6f9d6",
   "metadata": {},
   "outputs": [],
   "source": [
    "# A Python program to return multiple \n",
    "# values from a method using class\n",
    "class GetBollingerData:\n",
    "    def __init__(self, ML, SD, Dframe):\n",
    "        self.ML = ML\n",
    "        self.SD = SD  \n",
    "        self.df = Dframe\n",
    "  \n",
    "# This function returns an object of Test\n",
    "#def fun():\n",
    "#    return GetBollingerData()\n",
    "#      \n",
    "## Driver code to test above method\n",
    "#t = fun() \n",
    "#print(t.str)\n",
    "#print(t.x)"
   ]
  },
  {
   "cell_type": "markdown",
   "id": "7b94e5ba",
   "metadata": {},
   "source": [
    "###   function for adding bollinger bands data"
   ]
  },
  {
   "cell_type": "code",
   "execution_count": 46,
   "id": "ea114330",
   "metadata": {},
   "outputs": [],
   "source": [
    "def df_add_bollinger_data(df):  \n",
    "    # Calculate the 20 moving averages and std of the adjusted closing prices\n",
    "    ML = df['Adj Close'].rolling(window=20).mean()\n",
    "    SD = df['Adj Close'].rolling(window=20).std()\n",
    "    # Range= (df['High']-df['Low'])/df['Low']\n",
    "\n",
    "    UL = [ML + (SD * 2)]\n",
    "    LL = [ML - (SD * 2)]\n",
    "    Buy = (df['Adj Close'] - (df['Adj Close'].rolling(window=20).mean()) - (SD * 2))\n",
    "    Sell = (df['Adj Close'] - (df['Adj Close'].rolling(window=20).mean()) + (SD * 2))\n",
    "    tTrend = df['Adj Close'] > df['Adj Close'].rolling(window=20).mean()\n",
    "\n",
    "    df['Buy'] = pd.Series(Buy)\n",
    "    df['Sell'] = pd.Series(Sell)\n",
    "    df['Market-Trend'] = pd.Series(tTrend)\n",
    "    df['Market-Trend'] = df['Market-Trend'].map({True: \"Bullish\", False:\"Bearish\"})\n",
    "\n",
    "    Long = df.apply(buy_conditions, axis=1)\n",
    "    Short = df.apply(sell_conditions, axis=1)\n",
    "    #mktrend = df.apply(trend_conditions, axis=1)\n",
    "    # Flow=df.apply(trend,axis=0)\n",
    "\n",
    "    if not df.empty:\n",
    "        df.insert(8, 'Long', Long, allow_duplicates=True)\n",
    "        df.insert(9, 'Short', Short, allow_duplicates=True)\n",
    "    \n",
    "    data = GetBollingerData(ML, SD, df)\n",
    "    \n",
    "    return data"
   ]
  },
  {
   "cell_type": "markdown",
   "id": "0d12ae9e",
   "metadata": {},
   "source": [
    "###   functions for checking buy/sell conditions"
   ]
  },
  {
   "cell_type": "code",
   "execution_count": 47,
   "id": "24569579",
   "metadata": {},
   "outputs": [],
   "source": [
    "def buy_conditions(df):\n",
    "    if (df['Buy'] >= 0):\n",
    "        return 'BUY CALL'\n",
    "    else:\n",
    "        return 'BUY PUT'\n",
    "\n",
    "\n",
    "def sell_conditions(df):\n",
    "    if (df['Sell'] <= 0):\n",
    "        return 'BUY PUT'\n",
    "    else:\n",
    "        return 'BUY CALL'"
   ]
  },
  {
   "cell_type": "markdown",
   "id": "b8ae0244",
   "metadata": {},
   "source": [
    "###   function for volatilty"
   ]
  },
  {
   "cell_type": "code",
   "execution_count": 48,
   "id": "14eb1b80",
   "metadata": {},
   "outputs": [],
   "source": [
    "def volatility_conditions(df):    \n",
    "    Alength = 0\n",
    "    effectiveLen = math.ceil((Alength + 1)/2)\n",
    "    df['volatile'] = df['High'] + df['Open'] + df['Low'] + df['Close']\n",
    "    df['volatile'] = np.tan(df['volatile'].astype(float))\n",
    "    return df"
   ]
  },
  {
   "cell_type": "markdown",
   "id": "576e42c9",
   "metadata": {},
   "source": [
    "###   Plot everything using matplotlib and seaborn"
   ]
  },
  {
   "cell_type": "code",
   "execution_count": 49,
   "id": "9594ce5e",
   "metadata": {},
   "outputs": [],
   "source": [
    "def graphplot(ML,df):\n",
    "    #xpoints = np.array([1, 2, 6, 8])\n",
    "    ypoints = df['volatile']\n",
    "\n",
    "    # Plot everything by leveraging the very powerful matplotlib package\n",
    "\n",
    "    fig, (ax1, ax2) = plt.subplots(2, 1, figsize=(16, 15))\n",
    "    ax1.plot(ML.index, ML, label='Closing Price')\n",
    "    ax2.plot(ypoints.index, ypoints, label='Volatility')\n",
    "\n",
    "    my_year_month_fmt = mdates.DateFormatter('%m/%y')\n",
    "    ax1.xaxis.set_major_formatter(my_year_month_fmt)\n",
    "    ax2.xaxis.set_major_formatter(my_year_month_fmt)\n",
    "\n",
    "    ax1.set_xlabel('Date-Time')\n",
    "    ax1.set_ylabel('Adjusted closing price ($)')\n",
    "    ax1.legend()\n",
    "\n",
    "\n",
    "    ax2.set_xlabel('Date-Time')\n",
    "    ax2.set_ylabel('Volatility')\n",
    "    ax2.legend()\n",
    "    plt.show()"
   ]
  },
  {
   "cell_type": "markdown",
   "id": "18828cc1",
   "metadata": {},
   "source": [
    "###   main call for program"
   ]
  },
  {
   "cell_type": "code",
   "execution_count": 50,
   "id": "3bbc9519",
   "metadata": {},
   "outputs": [],
   "source": [
    "def main():\n",
    "    df = df_single_get('iwm')\n",
    "    \n",
    "    bolldata = df_add_bollinger_data(df)\n",
    "    ML = bolldata.ML\n",
    "    SD = bolldata.SD\n",
    "    df = bolldata.df\n",
    "    \n",
    "    df = volatility_conditions(df)    \n",
    "    \n",
    "    print(df.head(10))"
   ]
  },
  {
   "cell_type": "code",
   "execution_count": 51,
   "id": "d0a9dc9d",
   "metadata": {
    "scrolled": true
   },
   "outputs": [
    {
     "name": "stdout",
     "output_type": "stream",
     "text": [
      "[*********************100%***********************]  1 of 1 completed\n",
      "                          Ticker        Open        High         Low  \\\n",
      "2021-05-27 04:00:00-04:00    iwm  223.200000  223.200000  223.110000   \n",
      "2021-05-27 05:00:00-04:00    iwm  223.060000  223.060000  222.650000   \n",
      "2021-05-27 06:00:00-04:00    iwm  222.840000  223.000000  222.720000   \n",
      "2021-05-27 07:00:00-04:00    iwm  222.900000  223.240000  222.900000   \n",
      "2021-05-27 08:00:00-04:00    iwm  223.190000  224.450000  222.950000   \n",
      "2021-05-27 09:00:00-04:00    iwm  223.750000  225.100000  223.350000   \n",
      "2021-05-27 09:30:00-04:00    iwm  225.039993  225.697800  224.179993   \n",
      "2021-05-27 10:30:00-04:00    iwm  225.589996  225.720001  224.740005   \n",
      "2021-05-27 11:30:00-04:00    iwm  225.259995  225.649994  225.070007   \n",
      "2021-05-27 12:30:00-04:00    iwm  225.460007  225.809998  225.440002   \n",
      "\n",
      "                                Close   Adj Close   Volume  Buy     Long  \\\n",
      "2021-05-27 04:00:00-04:00  223.150000  223.150000        0  NaN  BUY PUT   \n",
      "2021-05-27 05:00:00-04:00  222.650000  222.650000        0  NaN  BUY PUT   \n",
      "2021-05-27 06:00:00-04:00  222.920000  222.920000        0  NaN  BUY PUT   \n",
      "2021-05-27 07:00:00-04:00  223.180000  223.180000        0  NaN  BUY PUT   \n",
      "2021-05-27 08:00:00-04:00  223.890000  223.890000        0  NaN  BUY PUT   \n",
      "2021-05-27 09:00:00-04:00  225.010000  225.010000        0  NaN  BUY PUT   \n",
      "2021-05-27 09:30:00-04:00  225.589996  225.589996  4878196  NaN  BUY PUT   \n",
      "2021-05-27 10:30:00-04:00  225.270004  225.270004  2144013  NaN  BUY PUT   \n",
      "2021-05-27 11:30:00-04:00  225.460007  225.460007  2120429  NaN  BUY PUT   \n",
      "2021-05-27 12:30:00-04:00  225.649994  225.649994  1787551  NaN  BUY PUT   \n",
      "\n",
      "                              Short  Sell Market-Trend  volatile  \n",
      "2021-05-27 04:00:00-04:00  BUY CALL   NaN      Bearish  0.480205  \n",
      "2021-05-27 05:00:00-04:00  BUY CALL   NaN      Bearish -1.013927  \n",
      "2021-05-27 06:00:00-04:00  BUY CALL   NaN      Bearish -0.899093  \n",
      "2021-05-27 07:00:00-04:00  BUY CALL   NaN      Bearish  0.007687  \n",
      "2021-05-27 08:00:00-04:00  BUY CALL   NaN      Bearish -1.194763  \n",
      "2021-05-27 09:00:00-04:00  BUY CALL   NaN      Bearish -3.409495  \n",
      "2021-05-27 09:30:00-04:00  BUY CALL   NaN      Bearish -2.115963  \n",
      "2021-05-27 10:30:00-04:00  BUY CALL   NaN      Bearish -0.328157  \n",
      "2021-05-27 11:30:00-04:00  BUY CALL   NaN      Bearish -0.199681  \n",
      "2021-05-27 12:30:00-04:00  BUY CALL   NaN      Bearish  0.882228  \n"
     ]
    }
   ],
   "source": [
    "if __name__ == \"__main__\":\n",
    "    main()\n",
    "    \n",
    "    "
   ]
  },
  {
   "cell_type": "markdown",
   "id": "bcdfb4ad",
   "metadata": {},
   "source": [
    "Plot Graph"
   ]
  },
  {
   "cell_type": "code",
   "execution_count": 52,
   "id": "da71bf0d",
   "metadata": {},
   "outputs": [
    {
     "data": {
      "image/png": "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\n",
      "text/plain": [
       "<Figure size 1152x1080 with 2 Axes>"
      ]
     },
     "metadata": {
      "needs_background": "light"
     },
     "output_type": "display_data"
    }
   ],
   "source": [
    "    graphplot(ML,df)"
   ]
  },
  {
   "cell_type": "code",
   "execution_count": null,
   "id": "489ad2f1",
   "metadata": {},
   "outputs": [],
   "source": []
  }
 ],
 "metadata": {
  "kernelspec": {
   "display_name": "flo.fin",
   "language": "python",
   "name": "flo.fin"
  },
  "language_info": {
   "codemirror_mode": {
    "name": "ipython",
    "version": 3
   },
   "file_extension": ".py",
   "mimetype": "text/x-python",
   "name": "python",
   "nbconvert_exporter": "python",
   "pygments_lexer": "ipython3",
   "version": "3.9.7"
  }
 },
 "nbformat": 4,
 "nbformat_minor": 5
}
